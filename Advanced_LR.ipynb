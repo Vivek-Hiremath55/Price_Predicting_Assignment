{
 "cells": [
  {
   "cell_type": "code",
   "execution_count": 130,
   "id": "a41112b6",
   "metadata": {},
   "outputs": [],
   "source": [
    "import numpy as np, pandas as pd, seaborn as sns, matplotlib.pyplot as plt, sklearn as sk, statsmodels.api as sm"
   ]
  },
  {
   "cell_type": "code",
   "execution_count": 131,
   "id": "4c85ab35",
   "metadata": {},
   "outputs": [],
   "source": [
    "from sklearn.preprocessing import PolynomialFeatures, MinMaxScaler\n",
    "from sklearn.linear_model import LinearRegression, Ridge, Lasso\n",
    "from sklearn.metrics import mean_squared_error, r2_score"
   ]
  },
  {
   "cell_type": "code",
   "execution_count": 132,
   "id": "959997a7",
   "metadata": {},
   "outputs": [],
   "source": [
    "main_data = pd.read_csv('train.csv')"
   ]
  },
  {
   "cell_type": "markdown",
   "id": "783d6fa2",
   "metadata": {},
   "source": [
    "# EDA"
   ]
  },
  {
   "cell_type": "code",
   "execution_count": 133,
   "id": "bd456b16",
   "metadata": {},
   "outputs": [
    {
     "data": {
      "text/plain": [
       "(1460, 81)"
      ]
     },
     "execution_count": 133,
     "metadata": {},
     "output_type": "execute_result"
    }
   ],
   "source": [
    "main_data.shape"
   ]
  },
  {
   "cell_type": "code",
   "execution_count": 134,
   "id": "3b558e23",
   "metadata": {},
   "outputs": [
    {
     "data": {
      "text/html": [
       "<div>\n",
       "<style scoped>\n",
       "    .dataframe tbody tr th:only-of-type {\n",
       "        vertical-align: middle;\n",
       "    }\n",
       "\n",
       "    .dataframe tbody tr th {\n",
       "        vertical-align: top;\n",
       "    }\n",
       "\n",
       "    .dataframe thead th {\n",
       "        text-align: right;\n",
       "    }\n",
       "</style>\n",
       "<table border=\"1\" class=\"dataframe\">\n",
       "  <thead>\n",
       "    <tr style=\"text-align: right;\">\n",
       "      <th></th>\n",
       "      <th>Id</th>\n",
       "      <th>MSSubClass</th>\n",
       "      <th>MSZoning</th>\n",
       "      <th>LotFrontage</th>\n",
       "      <th>LotArea</th>\n",
       "      <th>Street</th>\n",
       "      <th>Alley</th>\n",
       "      <th>LotShape</th>\n",
       "      <th>LandContour</th>\n",
       "      <th>Utilities</th>\n",
       "      <th>...</th>\n",
       "      <th>PoolArea</th>\n",
       "      <th>PoolQC</th>\n",
       "      <th>Fence</th>\n",
       "      <th>MiscFeature</th>\n",
       "      <th>MiscVal</th>\n",
       "      <th>MoSold</th>\n",
       "      <th>YrSold</th>\n",
       "      <th>SaleType</th>\n",
       "      <th>SaleCondition</th>\n",
       "      <th>SalePrice</th>\n",
       "    </tr>\n",
       "  </thead>\n",
       "  <tbody>\n",
       "    <tr>\n",
       "      <th>0</th>\n",
       "      <td>1</td>\n",
       "      <td>60</td>\n",
       "      <td>RL</td>\n",
       "      <td>65.0</td>\n",
       "      <td>8450</td>\n",
       "      <td>Pave</td>\n",
       "      <td>NaN</td>\n",
       "      <td>Reg</td>\n",
       "      <td>Lvl</td>\n",
       "      <td>AllPub</td>\n",
       "      <td>...</td>\n",
       "      <td>0</td>\n",
       "      <td>NaN</td>\n",
       "      <td>NaN</td>\n",
       "      <td>NaN</td>\n",
       "      <td>0</td>\n",
       "      <td>2</td>\n",
       "      <td>2008</td>\n",
       "      <td>WD</td>\n",
       "      <td>Normal</td>\n",
       "      <td>208500</td>\n",
       "    </tr>\n",
       "    <tr>\n",
       "      <th>1</th>\n",
       "      <td>2</td>\n",
       "      <td>20</td>\n",
       "      <td>RL</td>\n",
       "      <td>80.0</td>\n",
       "      <td>9600</td>\n",
       "      <td>Pave</td>\n",
       "      <td>NaN</td>\n",
       "      <td>Reg</td>\n",
       "      <td>Lvl</td>\n",
       "      <td>AllPub</td>\n",
       "      <td>...</td>\n",
       "      <td>0</td>\n",
       "      <td>NaN</td>\n",
       "      <td>NaN</td>\n",
       "      <td>NaN</td>\n",
       "      <td>0</td>\n",
       "      <td>5</td>\n",
       "      <td>2007</td>\n",
       "      <td>WD</td>\n",
       "      <td>Normal</td>\n",
       "      <td>181500</td>\n",
       "    </tr>\n",
       "    <tr>\n",
       "      <th>2</th>\n",
       "      <td>3</td>\n",
       "      <td>60</td>\n",
       "      <td>RL</td>\n",
       "      <td>68.0</td>\n",
       "      <td>11250</td>\n",
       "      <td>Pave</td>\n",
       "      <td>NaN</td>\n",
       "      <td>IR1</td>\n",
       "      <td>Lvl</td>\n",
       "      <td>AllPub</td>\n",
       "      <td>...</td>\n",
       "      <td>0</td>\n",
       "      <td>NaN</td>\n",
       "      <td>NaN</td>\n",
       "      <td>NaN</td>\n",
       "      <td>0</td>\n",
       "      <td>9</td>\n",
       "      <td>2008</td>\n",
       "      <td>WD</td>\n",
       "      <td>Normal</td>\n",
       "      <td>223500</td>\n",
       "    </tr>\n",
       "    <tr>\n",
       "      <th>3</th>\n",
       "      <td>4</td>\n",
       "      <td>70</td>\n",
       "      <td>RL</td>\n",
       "      <td>60.0</td>\n",
       "      <td>9550</td>\n",
       "      <td>Pave</td>\n",
       "      <td>NaN</td>\n",
       "      <td>IR1</td>\n",
       "      <td>Lvl</td>\n",
       "      <td>AllPub</td>\n",
       "      <td>...</td>\n",
       "      <td>0</td>\n",
       "      <td>NaN</td>\n",
       "      <td>NaN</td>\n",
       "      <td>NaN</td>\n",
       "      <td>0</td>\n",
       "      <td>2</td>\n",
       "      <td>2006</td>\n",
       "      <td>WD</td>\n",
       "      <td>Abnorml</td>\n",
       "      <td>140000</td>\n",
       "    </tr>\n",
       "    <tr>\n",
       "      <th>4</th>\n",
       "      <td>5</td>\n",
       "      <td>60</td>\n",
       "      <td>RL</td>\n",
       "      <td>84.0</td>\n",
       "      <td>14260</td>\n",
       "      <td>Pave</td>\n",
       "      <td>NaN</td>\n",
       "      <td>IR1</td>\n",
       "      <td>Lvl</td>\n",
       "      <td>AllPub</td>\n",
       "      <td>...</td>\n",
       "      <td>0</td>\n",
       "      <td>NaN</td>\n",
       "      <td>NaN</td>\n",
       "      <td>NaN</td>\n",
       "      <td>0</td>\n",
       "      <td>12</td>\n",
       "      <td>2008</td>\n",
       "      <td>WD</td>\n",
       "      <td>Normal</td>\n",
       "      <td>250000</td>\n",
       "    </tr>\n",
       "  </tbody>\n",
       "</table>\n",
       "<p>5 rows × 81 columns</p>\n",
       "</div>"
      ],
      "text/plain": [
       "   Id  MSSubClass MSZoning  LotFrontage  LotArea Street Alley LotShape  \\\n",
       "0   1          60       RL         65.0     8450   Pave   NaN      Reg   \n",
       "1   2          20       RL         80.0     9600   Pave   NaN      Reg   \n",
       "2   3          60       RL         68.0    11250   Pave   NaN      IR1   \n",
       "3   4          70       RL         60.0     9550   Pave   NaN      IR1   \n",
       "4   5          60       RL         84.0    14260   Pave   NaN      IR1   \n",
       "\n",
       "  LandContour Utilities  ... PoolArea PoolQC Fence MiscFeature MiscVal MoSold  \\\n",
       "0         Lvl    AllPub  ...        0    NaN   NaN         NaN       0      2   \n",
       "1         Lvl    AllPub  ...        0    NaN   NaN         NaN       0      5   \n",
       "2         Lvl    AllPub  ...        0    NaN   NaN         NaN       0      9   \n",
       "3         Lvl    AllPub  ...        0    NaN   NaN         NaN       0      2   \n",
       "4         Lvl    AllPub  ...        0    NaN   NaN         NaN       0     12   \n",
       "\n",
       "  YrSold  SaleType  SaleCondition  SalePrice  \n",
       "0   2008        WD         Normal     208500  \n",
       "1   2007        WD         Normal     181500  \n",
       "2   2008        WD         Normal     223500  \n",
       "3   2006        WD        Abnorml     140000  \n",
       "4   2008        WD         Normal     250000  \n",
       "\n",
       "[5 rows x 81 columns]"
      ]
     },
     "execution_count": 134,
     "metadata": {},
     "output_type": "execute_result"
    }
   ],
   "source": [
    "main_data.head()"
   ]
  },
  {
   "cell_type": "code",
   "execution_count": 135,
   "id": "c7d95d1a",
   "metadata": {},
   "outputs": [
    {
     "name": "stdout",
     "output_type": "stream",
     "text": [
      "<class 'pandas.core.frame.DataFrame'>\n",
      "RangeIndex: 1460 entries, 0 to 1459\n",
      "Data columns (total 81 columns):\n",
      " #   Column         Non-Null Count  Dtype  \n",
      "---  ------         --------------  -----  \n",
      " 0   Id             1460 non-null   int64  \n",
      " 1   MSSubClass     1460 non-null   int64  \n",
      " 2   MSZoning       1460 non-null   object \n",
      " 3   LotFrontage    1201 non-null   float64\n",
      " 4   LotArea        1460 non-null   int64  \n",
      " 5   Street         1460 non-null   object \n",
      " 6   Alley          91 non-null     object \n",
      " 7   LotShape       1460 non-null   object \n",
      " 8   LandContour    1460 non-null   object \n",
      " 9   Utilities      1460 non-null   object \n",
      " 10  LotConfig      1460 non-null   object \n",
      " 11  LandSlope      1460 non-null   object \n",
      " 12  Neighborhood   1460 non-null   object \n",
      " 13  Condition1     1460 non-null   object \n",
      " 14  Condition2     1460 non-null   object \n",
      " 15  BldgType       1460 non-null   object \n",
      " 16  HouseStyle     1460 non-null   object \n",
      " 17  OverallQual    1460 non-null   int64  \n",
      " 18  OverallCond    1460 non-null   int64  \n",
      " 19  YearBuilt      1460 non-null   int64  \n",
      " 20  YearRemodAdd   1460 non-null   int64  \n",
      " 21  RoofStyle      1460 non-null   object \n",
      " 22  RoofMatl       1460 non-null   object \n",
      " 23  Exterior1st    1460 non-null   object \n",
      " 24  Exterior2nd    1460 non-null   object \n",
      " 25  MasVnrType     1452 non-null   object \n",
      " 26  MasVnrArea     1452 non-null   float64\n",
      " 27  ExterQual      1460 non-null   object \n",
      " 28  ExterCond      1460 non-null   object \n",
      " 29  Foundation     1460 non-null   object \n",
      " 30  BsmtQual       1423 non-null   object \n",
      " 31  BsmtCond       1423 non-null   object \n",
      " 32  BsmtExposure   1422 non-null   object \n",
      " 33  BsmtFinType1   1423 non-null   object \n",
      " 34  BsmtFinSF1     1460 non-null   int64  \n",
      " 35  BsmtFinType2   1422 non-null   object \n",
      " 36  BsmtFinSF2     1460 non-null   int64  \n",
      " 37  BsmtUnfSF      1460 non-null   int64  \n",
      " 38  TotalBsmtSF    1460 non-null   int64  \n",
      " 39  Heating        1460 non-null   object \n",
      " 40  HeatingQC      1460 non-null   object \n",
      " 41  CentralAir     1460 non-null   object \n",
      " 42  Electrical     1459 non-null   object \n",
      " 43  1stFlrSF       1460 non-null   int64  \n",
      " 44  2ndFlrSF       1460 non-null   int64  \n",
      " 45  LowQualFinSF   1460 non-null   int64  \n",
      " 46  GrLivArea      1460 non-null   int64  \n",
      " 47  BsmtFullBath   1460 non-null   int64  \n",
      " 48  BsmtHalfBath   1460 non-null   int64  \n",
      " 49  FullBath       1460 non-null   int64  \n",
      " 50  HalfBath       1460 non-null   int64  \n",
      " 51  BedroomAbvGr   1460 non-null   int64  \n",
      " 52  KitchenAbvGr   1460 non-null   int64  \n",
      " 53  KitchenQual    1460 non-null   object \n",
      " 54  TotRmsAbvGrd   1460 non-null   int64  \n",
      " 55  Functional     1460 non-null   object \n",
      " 56  Fireplaces     1460 non-null   int64  \n",
      " 57  FireplaceQu    770 non-null    object \n",
      " 58  GarageType     1379 non-null   object \n",
      " 59  GarageYrBlt    1379 non-null   float64\n",
      " 60  GarageFinish   1379 non-null   object \n",
      " 61  GarageCars     1460 non-null   int64  \n",
      " 62  GarageArea     1460 non-null   int64  \n",
      " 63  GarageQual     1379 non-null   object \n",
      " 64  GarageCond     1379 non-null   object \n",
      " 65  PavedDrive     1460 non-null   object \n",
      " 66  WoodDeckSF     1460 non-null   int64  \n",
      " 67  OpenPorchSF    1460 non-null   int64  \n",
      " 68  EnclosedPorch  1460 non-null   int64  \n",
      " 69  3SsnPorch      1460 non-null   int64  \n",
      " 70  ScreenPorch    1460 non-null   int64  \n",
      " 71  PoolArea       1460 non-null   int64  \n",
      " 72  PoolQC         7 non-null      object \n",
      " 73  Fence          281 non-null    object \n",
      " 74  MiscFeature    54 non-null     object \n",
      " 75  MiscVal        1460 non-null   int64  \n",
      " 76  MoSold         1460 non-null   int64  \n",
      " 77  YrSold         1460 non-null   int64  \n",
      " 78  SaleType       1460 non-null   object \n",
      " 79  SaleCondition  1460 non-null   object \n",
      " 80  SalePrice      1460 non-null   int64  \n",
      "dtypes: float64(3), int64(35), object(43)\n",
      "memory usage: 924.0+ KB\n"
     ]
    }
   ],
   "source": [
    "main_data.info()"
   ]
  },
  {
   "cell_type": "markdown",
   "id": "2d92f5b2",
   "metadata": {},
   "source": [
    "# Columns with very low numbers of Data\n",
    "\n",
    "These are the columns that have significant number of their data as Not-Applicable. \n",
    "Thus, these varibales would hardly impact the result of the model. \n",
    "\n",
    "### Total rows (1460)\n",
    "\n",
    "Showing Non-Null values here\n",
    "1. Alley (91)\n",
    "2. FireplaceQu (770)\n",
    "3. PoolQC (7)\n",
    "4. Fence (281)\n",
    "5. MiscFeature (54)\n",
    "\n",
    "\n",
    "But on second thoughts, these could be the varibles that account for the difference. Since, these are the things (variables) that add up to the cost in one way or other.\n",
    "\n",
    "Trying to preserve the data as much as possible, as the missing values can be deduced in most of the cases.\n"
   ]
  },
  {
   "cell_type": "markdown",
   "id": "d25ecc32",
   "metadata": {},
   "source": [
    "Duplicating DataDrame\n"
   ]
  },
  {
   "cell_type": "code",
   "execution_count": 136,
   "id": "3b5ec956",
   "metadata": {},
   "outputs": [],
   "source": [
    "df = main_data"
   ]
  },
  {
   "cell_type": "markdown",
   "id": "06d8b1b1",
   "metadata": {},
   "source": [
    "Replacing nan values \n",
    "1. With 0 in int / float datatype\n",
    "2. With 2023 in case of missing years\n",
    "3. With No in case of Objects to depict the absence of field / facility"
   ]
  },
  {
   "cell_type": "code",
   "execution_count": 137,
   "id": "0c7ed0f9",
   "metadata": {},
   "outputs": [],
   "source": [
    "df.LotFrontage = df['LotFrontage'].fillna(0) # Area -> 0\n",
    "df.MasVnrArea = df['MasVnrArea'].fillna(0)   # Area -> 0\n",
    "df['GarageYrBlt'] = df['GarageYrBlt'].fillna(2023)\n",
    "\n",
    "df['BsmtQual'] = df['BsmtQual'].fillna('No')    #Quality rating -> No\n",
    "df['BsmtCond'] = df['BsmtCond'].fillna('No')    #Condition rating -> No\n",
    "df['BsmtExposure'] = df['BsmtExposure'].fillna('No')\n",
    "df['BsmtFinType1'] = df['BsmtFinType1'].fillna('No')\n",
    "df['BsmtFinType2'] = df['BsmtFinType2'].fillna('No')\n",
    "df['Electrical'] = df['Electrical'].fillna('No')  \n",
    "df['FireplaceQu'] = df['FireplaceQu'].fillna('No') \n",
    "df['GarageType'] = df['GarageType'].fillna('No') \n",
    "df['GarageFinish'] = df['GarageFinish'].fillna('No')\n",
    "df['GarageQual'] = df['GarageQual'].fillna('No') \n",
    "df['GarageCond'] = df['GarageCond'].fillna('No') \n",
    "df['PoolQC'] = df['PoolQC'].fillna('No') \n",
    "df['Fence'] = df['Fence'].fillna('No') \n",
    "df['MiscFeature'] = df['MiscFeature'].fillna('No') \n",
    "df['MasVnrType'] = df['MasVnrType'].fillna('No')  \n",
    "df['Alley'] = df['Alley'].fillna('No')  "
   ]
  },
  {
   "cell_type": "code",
   "execution_count": 138,
   "id": "b8506f9a",
   "metadata": {
    "scrolled": true
   },
   "outputs": [
    {
     "name": "stdout",
     "output_type": "stream",
     "text": [
      "<class 'pandas.core.frame.DataFrame'>\n",
      "RangeIndex: 1460 entries, 0 to 1459\n",
      "Data columns (total 81 columns):\n",
      " #   Column         Non-Null Count  Dtype  \n",
      "---  ------         --------------  -----  \n",
      " 0   Id             1460 non-null   int64  \n",
      " 1   MSSubClass     1460 non-null   int64  \n",
      " 2   MSZoning       1460 non-null   object \n",
      " 3   LotFrontage    1460 non-null   float64\n",
      " 4   LotArea        1460 non-null   int64  \n",
      " 5   Street         1460 non-null   object \n",
      " 6   Alley          1460 non-null   object \n",
      " 7   LotShape       1460 non-null   object \n",
      " 8   LandContour    1460 non-null   object \n",
      " 9   Utilities      1460 non-null   object \n",
      " 10  LotConfig      1460 non-null   object \n",
      " 11  LandSlope      1460 non-null   object \n",
      " 12  Neighborhood   1460 non-null   object \n",
      " 13  Condition1     1460 non-null   object \n",
      " 14  Condition2     1460 non-null   object \n",
      " 15  BldgType       1460 non-null   object \n",
      " 16  HouseStyle     1460 non-null   object \n",
      " 17  OverallQual    1460 non-null   int64  \n",
      " 18  OverallCond    1460 non-null   int64  \n",
      " 19  YearBuilt      1460 non-null   int64  \n",
      " 20  YearRemodAdd   1460 non-null   int64  \n",
      " 21  RoofStyle      1460 non-null   object \n",
      " 22  RoofMatl       1460 non-null   object \n",
      " 23  Exterior1st    1460 non-null   object \n",
      " 24  Exterior2nd    1460 non-null   object \n",
      " 25  MasVnrType     1460 non-null   object \n",
      " 26  MasVnrArea     1460 non-null   float64\n",
      " 27  ExterQual      1460 non-null   object \n",
      " 28  ExterCond      1460 non-null   object \n",
      " 29  Foundation     1460 non-null   object \n",
      " 30  BsmtQual       1460 non-null   object \n",
      " 31  BsmtCond       1460 non-null   object \n",
      " 32  BsmtExposure   1460 non-null   object \n",
      " 33  BsmtFinType1   1460 non-null   object \n",
      " 34  BsmtFinSF1     1460 non-null   int64  \n",
      " 35  BsmtFinType2   1460 non-null   object \n",
      " 36  BsmtFinSF2     1460 non-null   int64  \n",
      " 37  BsmtUnfSF      1460 non-null   int64  \n",
      " 38  TotalBsmtSF    1460 non-null   int64  \n",
      " 39  Heating        1460 non-null   object \n",
      " 40  HeatingQC      1460 non-null   object \n",
      " 41  CentralAir     1460 non-null   object \n",
      " 42  Electrical     1460 non-null   object \n",
      " 43  1stFlrSF       1460 non-null   int64  \n",
      " 44  2ndFlrSF       1460 non-null   int64  \n",
      " 45  LowQualFinSF   1460 non-null   int64  \n",
      " 46  GrLivArea      1460 non-null   int64  \n",
      " 47  BsmtFullBath   1460 non-null   int64  \n",
      " 48  BsmtHalfBath   1460 non-null   int64  \n",
      " 49  FullBath       1460 non-null   int64  \n",
      " 50  HalfBath       1460 non-null   int64  \n",
      " 51  BedroomAbvGr   1460 non-null   int64  \n",
      " 52  KitchenAbvGr   1460 non-null   int64  \n",
      " 53  KitchenQual    1460 non-null   object \n",
      " 54  TotRmsAbvGrd   1460 non-null   int64  \n",
      " 55  Functional     1460 non-null   object \n",
      " 56  Fireplaces     1460 non-null   int64  \n",
      " 57  FireplaceQu    1460 non-null   object \n",
      " 58  GarageType     1460 non-null   object \n",
      " 59  GarageYrBlt    1460 non-null   float64\n",
      " 60  GarageFinish   1460 non-null   object \n",
      " 61  GarageCars     1460 non-null   int64  \n",
      " 62  GarageArea     1460 non-null   int64  \n",
      " 63  GarageQual     1460 non-null   object \n",
      " 64  GarageCond     1460 non-null   object \n",
      " 65  PavedDrive     1460 non-null   object \n",
      " 66  WoodDeckSF     1460 non-null   int64  \n",
      " 67  OpenPorchSF    1460 non-null   int64  \n",
      " 68  EnclosedPorch  1460 non-null   int64  \n",
      " 69  3SsnPorch      1460 non-null   int64  \n",
      " 70  ScreenPorch    1460 non-null   int64  \n",
      " 71  PoolArea       1460 non-null   int64  \n",
      " 72  PoolQC         1460 non-null   object \n",
      " 73  Fence          1460 non-null   object \n",
      " 74  MiscFeature    1460 non-null   object \n",
      " 75  MiscVal        1460 non-null   int64  \n",
      " 76  MoSold         1460 non-null   int64  \n",
      " 77  YrSold         1460 non-null   int64  \n",
      " 78  SaleType       1460 non-null   object \n",
      " 79  SaleCondition  1460 non-null   object \n",
      " 80  SalePrice      1460 non-null   int64  \n",
      "dtypes: float64(3), int64(35), object(43)\n",
      "memory usage: 924.0+ KB\n"
     ]
    }
   ],
   "source": [
    "df.info()"
   ]
  },
  {
   "cell_type": "code",
   "execution_count": 139,
   "id": "8aea3d2d",
   "metadata": {},
   "outputs": [],
   "source": [
    "df['Age'] = df['YrSold'] - df['YearBuilt']\n"
   ]
  },
  {
   "cell_type": "code",
   "execution_count": 140,
   "id": "e5c8d88b",
   "metadata": {
    "scrolled": true
   },
   "outputs": [
    {
     "data": {
      "text/plain": [
       "0     5\n",
       "1    31\n",
       "2     7\n",
       "3    91\n",
       "4     8\n",
       "Name: Age, dtype: int64"
      ]
     },
     "execution_count": 140,
     "metadata": {},
     "output_type": "execute_result"
    }
   ],
   "source": [
    "df.Age.head()"
   ]
  },
  {
   "cell_type": "code",
   "execution_count": 141,
   "id": "dac8739a",
   "metadata": {},
   "outputs": [],
   "source": [
    "drop1 = ['YrSold','YearBuilt']\n",
    "df = df.drop(drop1, axis = 1)"
   ]
  },
  {
   "cell_type": "code",
   "execution_count": 142,
   "id": "0b14550f",
   "metadata": {},
   "outputs": [],
   "source": [
    "scaler = MinMaxScaler()"
   ]
  },
  {
   "cell_type": "code",
   "execution_count": 143,
   "id": "52c5cd63",
   "metadata": {},
   "outputs": [],
   "source": [
    "# To drop BsmtUnfSF BsmtFinSF1 2ndFlrSF 1stFlrSF\n",
    "to_be_dropped = ['Id','BsmtUnfSF','BsmtFinSF1','2ndFlrSF','1stFlrSF']\n",
    "df = df.drop(to_be_dropped, axis = 1)"
   ]
  },
  {
   "cell_type": "code",
   "execution_count": 144,
   "id": "2b55ee92",
   "metadata": {},
   "outputs": [],
   "source": [
    "to_be_scaled = ['LotFrontage','LotArea','OverallQual','OverallCond','MasVnrArea','TotalBsmtSF','GrLivArea', 'GarageArea','WoodDeckSF','OpenPorchSF','EnclosedPorch','3SsnPorch','ScreenPorch','PoolArea','MiscVal','MoSold','Age']\n",
    "\n",
    "df[to_be_scaled] = scaler.fit_transform(df[to_be_scaled])"
   ]
  },
  {
   "cell_type": "markdown",
   "id": "688b2c64",
   "metadata": {},
   "source": [
    "# Word for the evaluator: Doubt with unimplemented piece of code.\n",
    "\n",
    "to_be_scaled = ['LotFrontage','LotArea','OverallQual','OverallCond','MasVnrArea','TotalBsmtSF','GrLivArea', 'GarageArea','WoodDeckSF','OpenPorchSF','EnclosedPorch','3SsnPorch','ScreenPorch','PoolArea','MiscVal','MoSold','Age']\n",
    "\n",
    "df[to_be_scaled] = scaler.fit_transform(df[to_be_scaled])\n",
    "\n",
    "### After this code cell, I tried the following code to get dummies for the rest of the columns in a single go. The code is as follows:\n",
    "\n",
    "df_s = df.drop(to_be_scaled, axis = 1)\n",
    "dummies = df_s.columns\n",
    "\n",
    "for i in dummies:\n",
    "    status = pd.get_dummies(df.i, drop_first = True)\n",
    "    df = pd.concat([df,status], axis = 1)\n",
    "\n",
    "df = df.drop(dummies, axis = 1)\n",
    "\n",
    "### But my laptop kept freezing everytime I ran this cell. I suspect a infinite loop here but am unable to figure out the exact reason. So, I've done it for a few columns mannualy and not for all due to lack of time."
   ]
  },
  {
   "cell_type": "code",
   "execution_count": 145,
   "id": "5b671a90",
   "metadata": {
    "scrolled": true
   },
   "outputs": [
    {
     "data": {
      "text/html": [
       "<div>\n",
       "<style scoped>\n",
       "    .dataframe tbody tr th:only-of-type {\n",
       "        vertical-align: middle;\n",
       "    }\n",
       "\n",
       "    .dataframe tbody tr th {\n",
       "        vertical-align: top;\n",
       "    }\n",
       "\n",
       "    .dataframe thead th {\n",
       "        text-align: right;\n",
       "    }\n",
       "</style>\n",
       "<table border=\"1\" class=\"dataframe\">\n",
       "  <thead>\n",
       "    <tr style=\"text-align: right;\">\n",
       "      <th></th>\n",
       "      <th>MSSubClass</th>\n",
       "      <th>MSZoning</th>\n",
       "      <th>LotFrontage</th>\n",
       "      <th>LotArea</th>\n",
       "      <th>Street</th>\n",
       "      <th>Alley</th>\n",
       "      <th>LotShape</th>\n",
       "      <th>LandContour</th>\n",
       "      <th>Utilities</th>\n",
       "      <th>LotConfig</th>\n",
       "      <th>...</th>\n",
       "      <th>PoolArea</th>\n",
       "      <th>PoolQC</th>\n",
       "      <th>Fence</th>\n",
       "      <th>MiscFeature</th>\n",
       "      <th>MiscVal</th>\n",
       "      <th>MoSold</th>\n",
       "      <th>SaleType</th>\n",
       "      <th>SaleCondition</th>\n",
       "      <th>SalePrice</th>\n",
       "      <th>Age</th>\n",
       "    </tr>\n",
       "  </thead>\n",
       "  <tbody>\n",
       "    <tr>\n",
       "      <th>0</th>\n",
       "      <td>60</td>\n",
       "      <td>RL</td>\n",
       "      <td>0.207668</td>\n",
       "      <td>0.033420</td>\n",
       "      <td>Pave</td>\n",
       "      <td>No</td>\n",
       "      <td>Reg</td>\n",
       "      <td>Lvl</td>\n",
       "      <td>AllPub</td>\n",
       "      <td>Inside</td>\n",
       "      <td>...</td>\n",
       "      <td>0.0</td>\n",
       "      <td>No</td>\n",
       "      <td>No</td>\n",
       "      <td>No</td>\n",
       "      <td>0.0</td>\n",
       "      <td>0.090909</td>\n",
       "      <td>WD</td>\n",
       "      <td>Normal</td>\n",
       "      <td>208500</td>\n",
       "      <td>0.036765</td>\n",
       "    </tr>\n",
       "    <tr>\n",
       "      <th>1</th>\n",
       "      <td>20</td>\n",
       "      <td>RL</td>\n",
       "      <td>0.255591</td>\n",
       "      <td>0.038795</td>\n",
       "      <td>Pave</td>\n",
       "      <td>No</td>\n",
       "      <td>Reg</td>\n",
       "      <td>Lvl</td>\n",
       "      <td>AllPub</td>\n",
       "      <td>FR2</td>\n",
       "      <td>...</td>\n",
       "      <td>0.0</td>\n",
       "      <td>No</td>\n",
       "      <td>No</td>\n",
       "      <td>No</td>\n",
       "      <td>0.0</td>\n",
       "      <td>0.363636</td>\n",
       "      <td>WD</td>\n",
       "      <td>Normal</td>\n",
       "      <td>181500</td>\n",
       "      <td>0.227941</td>\n",
       "    </tr>\n",
       "    <tr>\n",
       "      <th>2</th>\n",
       "      <td>60</td>\n",
       "      <td>RL</td>\n",
       "      <td>0.217252</td>\n",
       "      <td>0.046507</td>\n",
       "      <td>Pave</td>\n",
       "      <td>No</td>\n",
       "      <td>IR1</td>\n",
       "      <td>Lvl</td>\n",
       "      <td>AllPub</td>\n",
       "      <td>Inside</td>\n",
       "      <td>...</td>\n",
       "      <td>0.0</td>\n",
       "      <td>No</td>\n",
       "      <td>No</td>\n",
       "      <td>No</td>\n",
       "      <td>0.0</td>\n",
       "      <td>0.727273</td>\n",
       "      <td>WD</td>\n",
       "      <td>Normal</td>\n",
       "      <td>223500</td>\n",
       "      <td>0.051471</td>\n",
       "    </tr>\n",
       "    <tr>\n",
       "      <th>3</th>\n",
       "      <td>70</td>\n",
       "      <td>RL</td>\n",
       "      <td>0.191693</td>\n",
       "      <td>0.038561</td>\n",
       "      <td>Pave</td>\n",
       "      <td>No</td>\n",
       "      <td>IR1</td>\n",
       "      <td>Lvl</td>\n",
       "      <td>AllPub</td>\n",
       "      <td>Corner</td>\n",
       "      <td>...</td>\n",
       "      <td>0.0</td>\n",
       "      <td>No</td>\n",
       "      <td>No</td>\n",
       "      <td>No</td>\n",
       "      <td>0.0</td>\n",
       "      <td>0.090909</td>\n",
       "      <td>WD</td>\n",
       "      <td>Abnorml</td>\n",
       "      <td>140000</td>\n",
       "      <td>0.669118</td>\n",
       "    </tr>\n",
       "    <tr>\n",
       "      <th>4</th>\n",
       "      <td>60</td>\n",
       "      <td>RL</td>\n",
       "      <td>0.268371</td>\n",
       "      <td>0.060576</td>\n",
       "      <td>Pave</td>\n",
       "      <td>No</td>\n",
       "      <td>IR1</td>\n",
       "      <td>Lvl</td>\n",
       "      <td>AllPub</td>\n",
       "      <td>FR2</td>\n",
       "      <td>...</td>\n",
       "      <td>0.0</td>\n",
       "      <td>No</td>\n",
       "      <td>No</td>\n",
       "      <td>No</td>\n",
       "      <td>0.0</td>\n",
       "      <td>1.000000</td>\n",
       "      <td>WD</td>\n",
       "      <td>Normal</td>\n",
       "      <td>250000</td>\n",
       "      <td>0.058824</td>\n",
       "    </tr>\n",
       "  </tbody>\n",
       "</table>\n",
       "<p>5 rows × 75 columns</p>\n",
       "</div>"
      ],
      "text/plain": [
       "   MSSubClass MSZoning  LotFrontage   LotArea Street Alley LotShape  \\\n",
       "0          60       RL     0.207668  0.033420   Pave    No      Reg   \n",
       "1          20       RL     0.255591  0.038795   Pave    No      Reg   \n",
       "2          60       RL     0.217252  0.046507   Pave    No      IR1   \n",
       "3          70       RL     0.191693  0.038561   Pave    No      IR1   \n",
       "4          60       RL     0.268371  0.060576   Pave    No      IR1   \n",
       "\n",
       "  LandContour Utilities LotConfig  ... PoolArea PoolQC Fence MiscFeature  \\\n",
       "0         Lvl    AllPub    Inside  ...      0.0     No    No          No   \n",
       "1         Lvl    AllPub       FR2  ...      0.0     No    No          No   \n",
       "2         Lvl    AllPub    Inside  ...      0.0     No    No          No   \n",
       "3         Lvl    AllPub    Corner  ...      0.0     No    No          No   \n",
       "4         Lvl    AllPub       FR2  ...      0.0     No    No          No   \n",
       "\n",
       "  MiscVal    MoSold  SaleType  SaleCondition  SalePrice       Age  \n",
       "0     0.0  0.090909        WD         Normal     208500  0.036765  \n",
       "1     0.0  0.363636        WD         Normal     181500  0.227941  \n",
       "2     0.0  0.727273        WD         Normal     223500  0.051471  \n",
       "3     0.0  0.090909        WD        Abnorml     140000  0.669118  \n",
       "4     0.0  1.000000        WD         Normal     250000  0.058824  \n",
       "\n",
       "[5 rows x 75 columns]"
      ]
     },
     "execution_count": 145,
     "metadata": {},
     "output_type": "execute_result"
    }
   ],
   "source": [
    "df.head()"
   ]
  },
  {
   "cell_type": "code",
   "execution_count": 146,
   "id": "dafd8647",
   "metadata": {},
   "outputs": [
    {
     "data": {
      "text/html": [
       "<div>\n",
       "<style scoped>\n",
       "    .dataframe tbody tr th:only-of-type {\n",
       "        vertical-align: middle;\n",
       "    }\n",
       "\n",
       "    .dataframe tbody tr th {\n",
       "        vertical-align: top;\n",
       "    }\n",
       "\n",
       "    .dataframe thead th {\n",
       "        text-align: right;\n",
       "    }\n",
       "</style>\n",
       "<table border=\"1\" class=\"dataframe\">\n",
       "  <thead>\n",
       "    <tr style=\"text-align: right;\">\n",
       "      <th></th>\n",
       "      <th>LotFrontage</th>\n",
       "      <th>LotArea</th>\n",
       "      <th>OverallQual</th>\n",
       "      <th>OverallCond</th>\n",
       "      <th>MasVnrArea</th>\n",
       "      <th>TotalBsmtSF</th>\n",
       "      <th>GrLivArea</th>\n",
       "      <th>GarageArea</th>\n",
       "      <th>WoodDeckSF</th>\n",
       "      <th>OpenPorchSF</th>\n",
       "      <th>EnclosedPorch</th>\n",
       "      <th>3SsnPorch</th>\n",
       "      <th>ScreenPorch</th>\n",
       "      <th>PoolArea</th>\n",
       "      <th>MiscVal</th>\n",
       "      <th>MoSold</th>\n",
       "      <th>Age</th>\n",
       "      <th>SalePrice</th>\n",
       "    </tr>\n",
       "  </thead>\n",
       "  <tbody>\n",
       "    <tr>\n",
       "      <th>0</th>\n",
       "      <td>0.207668</td>\n",
       "      <td>0.033420</td>\n",
       "      <td>0.666667</td>\n",
       "      <td>0.500</td>\n",
       "      <td>0.12250</td>\n",
       "      <td>0.140098</td>\n",
       "      <td>0.259231</td>\n",
       "      <td>0.386460</td>\n",
       "      <td>0.000000</td>\n",
       "      <td>0.111517</td>\n",
       "      <td>0.000000</td>\n",
       "      <td>0.0</td>\n",
       "      <td>0.0</td>\n",
       "      <td>0.0</td>\n",
       "      <td>0.0</td>\n",
       "      <td>0.090909</td>\n",
       "      <td>0.036765</td>\n",
       "      <td>208500</td>\n",
       "    </tr>\n",
       "    <tr>\n",
       "      <th>1</th>\n",
       "      <td>0.255591</td>\n",
       "      <td>0.038795</td>\n",
       "      <td>0.555556</td>\n",
       "      <td>0.875</td>\n",
       "      <td>0.00000</td>\n",
       "      <td>0.206547</td>\n",
       "      <td>0.174830</td>\n",
       "      <td>0.324401</td>\n",
       "      <td>0.347725</td>\n",
       "      <td>0.000000</td>\n",
       "      <td>0.000000</td>\n",
       "      <td>0.0</td>\n",
       "      <td>0.0</td>\n",
       "      <td>0.0</td>\n",
       "      <td>0.0</td>\n",
       "      <td>0.363636</td>\n",
       "      <td>0.227941</td>\n",
       "      <td>181500</td>\n",
       "    </tr>\n",
       "    <tr>\n",
       "      <th>2</th>\n",
       "      <td>0.217252</td>\n",
       "      <td>0.046507</td>\n",
       "      <td>0.666667</td>\n",
       "      <td>0.500</td>\n",
       "      <td>0.10125</td>\n",
       "      <td>0.150573</td>\n",
       "      <td>0.273549</td>\n",
       "      <td>0.428773</td>\n",
       "      <td>0.000000</td>\n",
       "      <td>0.076782</td>\n",
       "      <td>0.000000</td>\n",
       "      <td>0.0</td>\n",
       "      <td>0.0</td>\n",
       "      <td>0.0</td>\n",
       "      <td>0.0</td>\n",
       "      <td>0.727273</td>\n",
       "      <td>0.051471</td>\n",
       "      <td>223500</td>\n",
       "    </tr>\n",
       "    <tr>\n",
       "      <th>3</th>\n",
       "      <td>0.191693</td>\n",
       "      <td>0.038561</td>\n",
       "      <td>0.666667</td>\n",
       "      <td>0.500</td>\n",
       "      <td>0.00000</td>\n",
       "      <td>0.123732</td>\n",
       "      <td>0.260550</td>\n",
       "      <td>0.452750</td>\n",
       "      <td>0.000000</td>\n",
       "      <td>0.063985</td>\n",
       "      <td>0.492754</td>\n",
       "      <td>0.0</td>\n",
       "      <td>0.0</td>\n",
       "      <td>0.0</td>\n",
       "      <td>0.0</td>\n",
       "      <td>0.090909</td>\n",
       "      <td>0.669118</td>\n",
       "      <td>140000</td>\n",
       "    </tr>\n",
       "    <tr>\n",
       "      <th>4</th>\n",
       "      <td>0.268371</td>\n",
       "      <td>0.060576</td>\n",
       "      <td>0.777778</td>\n",
       "      <td>0.500</td>\n",
       "      <td>0.21875</td>\n",
       "      <td>0.187398</td>\n",
       "      <td>0.351168</td>\n",
       "      <td>0.589563</td>\n",
       "      <td>0.224037</td>\n",
       "      <td>0.153565</td>\n",
       "      <td>0.000000</td>\n",
       "      <td>0.0</td>\n",
       "      <td>0.0</td>\n",
       "      <td>0.0</td>\n",
       "      <td>0.0</td>\n",
       "      <td>1.000000</td>\n",
       "      <td>0.058824</td>\n",
       "      <td>250000</td>\n",
       "    </tr>\n",
       "  </tbody>\n",
       "</table>\n",
       "</div>"
      ],
      "text/plain": [
       "   LotFrontage   LotArea  OverallQual  OverallCond  MasVnrArea  TotalBsmtSF  \\\n",
       "0     0.207668  0.033420     0.666667        0.500     0.12250     0.140098   \n",
       "1     0.255591  0.038795     0.555556        0.875     0.00000     0.206547   \n",
       "2     0.217252  0.046507     0.666667        0.500     0.10125     0.150573   \n",
       "3     0.191693  0.038561     0.666667        0.500     0.00000     0.123732   \n",
       "4     0.268371  0.060576     0.777778        0.500     0.21875     0.187398   \n",
       "\n",
       "   GrLivArea  GarageArea  WoodDeckSF  OpenPorchSF  EnclosedPorch  3SsnPorch  \\\n",
       "0   0.259231    0.386460    0.000000     0.111517       0.000000        0.0   \n",
       "1   0.174830    0.324401    0.347725     0.000000       0.000000        0.0   \n",
       "2   0.273549    0.428773    0.000000     0.076782       0.000000        0.0   \n",
       "3   0.260550    0.452750    0.000000     0.063985       0.492754        0.0   \n",
       "4   0.351168    0.589563    0.224037     0.153565       0.000000        0.0   \n",
       "\n",
       "   ScreenPorch  PoolArea  MiscVal    MoSold       Age  SalePrice  \n",
       "0          0.0       0.0      0.0  0.090909  0.036765     208500  \n",
       "1          0.0       0.0      0.0  0.363636  0.227941     181500  \n",
       "2          0.0       0.0      0.0  0.727273  0.051471     223500  \n",
       "3          0.0       0.0      0.0  0.090909  0.669118     140000  \n",
       "4          0.0       0.0      0.0  1.000000  0.058824     250000  "
      ]
     },
     "execution_count": 146,
     "metadata": {},
     "output_type": "execute_result"
    }
   ],
   "source": [
    "df_s = df.drop(to_be_scaled, axis = 1)\n",
    "\n",
    "dummies = df_s.columns\n",
    "\n",
    "dummies.drop('SalePrice')\n",
    "\n",
    "#for i in dummies:\n",
    "    #status = pd.get_dummies(df[i], drop_first = True)\n",
    "    #df = pd.concat([df_s,status], axis = 1)\n",
    "\n",
    "df = df.drop(dummies, axis = 1)\n",
    "df = pd.concat([df,main_data.SalePrice], axis = 1)\n",
    "\n",
    "df.head()"
   ]
  },
  {
   "cell_type": "code",
   "execution_count": 147,
   "id": "f472098e",
   "metadata": {},
   "outputs": [
    {
     "data": {
      "text/plain": [
       "Index(['LotFrontage', 'LotArea', 'OverallQual', 'OverallCond', 'MasVnrArea',\n",
       "       'TotalBsmtSF', 'GrLivArea', 'GarageArea', 'WoodDeckSF', 'OpenPorchSF',\n",
       "       'EnclosedPorch', '3SsnPorch', 'ScreenPorch', 'PoolArea', 'MiscVal',\n",
       "       'MoSold', 'Age', 'SalePrice'],\n",
       "      dtype='object')"
      ]
     },
     "execution_count": 147,
     "metadata": {},
     "output_type": "execute_result"
    }
   ],
   "source": [
    "df.columns\n"
   ]
  },
  {
   "cell_type": "code",
   "execution_count": 148,
   "id": "f2400694",
   "metadata": {},
   "outputs": [],
   "source": [
    "y = df.SalePrice.values.reshape(-1,1)\n",
    "df = df.drop('SalePrice',axis = 1)\n",
    "X = df"
   ]
  },
  {
   "cell_type": "code",
   "execution_count": 149,
   "id": "95b5d21b",
   "metadata": {},
   "outputs": [
    {
     "data": {
      "text/plain": [
       "(1460, 1)"
      ]
     },
     "execution_count": 149,
     "metadata": {},
     "output_type": "execute_result"
    }
   ],
   "source": [
    "y.shape"
   ]
  },
  {
   "cell_type": "code",
   "execution_count": 150,
   "id": "56937b3c",
   "metadata": {},
   "outputs": [],
   "source": [
    "from sklearn.model_selection import train_test_split\n",
    "X_train, X_test, y_train, y_test = train_test_split(X, y, test_size = 0.2,random_state = 1)"
   ]
  },
  {
   "cell_type": "code",
   "execution_count": 151,
   "id": "a2a1a1ce",
   "metadata": {},
   "outputs": [
    {
     "data": {
      "text/html": [
       "<style>#sk-container-id-4 {color: black;background-color: white;}#sk-container-id-4 pre{padding: 0;}#sk-container-id-4 div.sk-toggleable {background-color: white;}#sk-container-id-4 label.sk-toggleable__label {cursor: pointer;display: block;width: 100%;margin-bottom: 0;padding: 0.3em;box-sizing: border-box;text-align: center;}#sk-container-id-4 label.sk-toggleable__label-arrow:before {content: \"▸\";float: left;margin-right: 0.25em;color: #696969;}#sk-container-id-4 label.sk-toggleable__label-arrow:hover:before {color: black;}#sk-container-id-4 div.sk-estimator:hover label.sk-toggleable__label-arrow:before {color: black;}#sk-container-id-4 div.sk-toggleable__content {max-height: 0;max-width: 0;overflow: hidden;text-align: left;background-color: #f0f8ff;}#sk-container-id-4 div.sk-toggleable__content pre {margin: 0.2em;color: black;border-radius: 0.25em;background-color: #f0f8ff;}#sk-container-id-4 input.sk-toggleable__control:checked~div.sk-toggleable__content {max-height: 200px;max-width: 100%;overflow: auto;}#sk-container-id-4 input.sk-toggleable__control:checked~label.sk-toggleable__label-arrow:before {content: \"▾\";}#sk-container-id-4 div.sk-estimator input.sk-toggleable__control:checked~label.sk-toggleable__label {background-color: #d4ebff;}#sk-container-id-4 div.sk-label input.sk-toggleable__control:checked~label.sk-toggleable__label {background-color: #d4ebff;}#sk-container-id-4 input.sk-hidden--visually {border: 0;clip: rect(1px 1px 1px 1px);clip: rect(1px, 1px, 1px, 1px);height: 1px;margin: -1px;overflow: hidden;padding: 0;position: absolute;width: 1px;}#sk-container-id-4 div.sk-estimator {font-family: monospace;background-color: #f0f8ff;border: 1px dotted black;border-radius: 0.25em;box-sizing: border-box;margin-bottom: 0.5em;}#sk-container-id-4 div.sk-estimator:hover {background-color: #d4ebff;}#sk-container-id-4 div.sk-parallel-item::after {content: \"\";width: 100%;border-bottom: 1px solid gray;flex-grow: 1;}#sk-container-id-4 div.sk-label:hover label.sk-toggleable__label {background-color: #d4ebff;}#sk-container-id-4 div.sk-serial::before {content: \"\";position: absolute;border-left: 1px solid gray;box-sizing: border-box;top: 0;bottom: 0;left: 50%;z-index: 0;}#sk-container-id-4 div.sk-serial {display: flex;flex-direction: column;align-items: center;background-color: white;padding-right: 0.2em;padding-left: 0.2em;position: relative;}#sk-container-id-4 div.sk-item {position: relative;z-index: 1;}#sk-container-id-4 div.sk-parallel {display: flex;align-items: stretch;justify-content: center;background-color: white;position: relative;}#sk-container-id-4 div.sk-item::before, #sk-container-id-4 div.sk-parallel-item::before {content: \"\";position: absolute;border-left: 1px solid gray;box-sizing: border-box;top: 0;bottom: 0;left: 50%;z-index: -1;}#sk-container-id-4 div.sk-parallel-item {display: flex;flex-direction: column;z-index: 1;position: relative;background-color: white;}#sk-container-id-4 div.sk-parallel-item:first-child::after {align-self: flex-end;width: 50%;}#sk-container-id-4 div.sk-parallel-item:last-child::after {align-self: flex-start;width: 50%;}#sk-container-id-4 div.sk-parallel-item:only-child::after {width: 0;}#sk-container-id-4 div.sk-dashed-wrapped {border: 1px dashed gray;margin: 0 0.4em 0.5em 0.4em;box-sizing: border-box;padding-bottom: 0.4em;background-color: white;}#sk-container-id-4 div.sk-label label {font-family: monospace;font-weight: bold;display: inline-block;line-height: 1.2em;}#sk-container-id-4 div.sk-label-container {text-align: center;}#sk-container-id-4 div.sk-container {/* jupyter's `normalize.less` sets `[hidden] { display: none; }` but bootstrap.min.css set `[hidden] { display: none !important; }` so we also need the `!important` here to be able to override the default hidden behavior on the sphinx rendered scikit-learn.org. See: https://github.com/scikit-learn/scikit-learn/issues/21755 */display: inline-block !important;position: relative;}#sk-container-id-4 div.sk-text-repr-fallback {display: none;}</style><div id=\"sk-container-id-4\" class=\"sk-top-container\"><div class=\"sk-text-repr-fallback\"><pre>LinearRegression()</pre><b>In a Jupyter environment, please rerun this cell to show the HTML representation or trust the notebook. <br />On GitHub, the HTML representation is unable to render, please try loading this page with nbviewer.org.</b></div><div class=\"sk-container\" hidden><div class=\"sk-item\"><div class=\"sk-estimator sk-toggleable\"><input class=\"sk-toggleable__control sk-hidden--visually\" id=\"sk-estimator-id-4\" type=\"checkbox\" checked><label for=\"sk-estimator-id-4\" class=\"sk-toggleable__label sk-toggleable__label-arrow\">LinearRegression</label><div class=\"sk-toggleable__content\"><pre>LinearRegression()</pre></div></div></div></div></div>"
      ],
      "text/plain": [
       "LinearRegression()"
      ]
     },
     "execution_count": 151,
     "metadata": {},
     "output_type": "execute_result"
    }
   ],
   "source": [
    "reg = LinearRegression()\n",
    "reg.fit(X_train,y_train)"
   ]
  },
  {
   "cell_type": "code",
   "execution_count": 152,
   "id": "74321693",
   "metadata": {},
   "outputs": [
    {
     "data": {
      "text/plain": [
       "array([[137604.80283385],\n",
       "       [ 72138.99539325],\n",
       "       [194151.79173676],\n",
       "       ...,\n",
       "       [124539.09450445],\n",
       "       [118122.35482651],\n",
       "       [ 91414.67750185]])"
      ]
     },
     "execution_count": 152,
     "metadata": {},
     "output_type": "execute_result"
    }
   ],
   "source": [
    "y_pred = reg.predict(X_train)\n",
    "y_pred"
   ]
  },
  {
   "cell_type": "code",
   "execution_count": 153,
   "id": "16761375",
   "metadata": {},
   "outputs": [
    {
     "data": {
      "text/plain": [
       "0.7792273468919211"
      ]
     },
     "execution_count": 153,
     "metadata": {},
     "output_type": "execute_result"
    }
   ],
   "source": [
    "r2_score(y_train,y_pred)"
   ]
  },
  {
   "cell_type": "code",
   "execution_count": 166,
   "id": "c70653ac",
   "metadata": {
    "scrolled": false
   },
   "outputs": [],
   "source": [
    "y_test_pred = reg.predict(X_test)\n"
   ]
  },
  {
   "cell_type": "code",
   "execution_count": 155,
   "id": "e12d7164",
   "metadata": {},
   "outputs": [
    {
     "data": {
      "text/plain": [
       "0.7956989794185897"
      ]
     },
     "execution_count": 155,
     "metadata": {},
     "output_type": "execute_result"
    }
   ],
   "source": [
    "r2_score(y_test,y_test_pred)"
   ]
  },
  {
   "cell_type": "code",
   "execution_count": 156,
   "id": "e2029ec1",
   "metadata": {},
   "outputs": [
    {
     "name": "stdout",
     "output_type": "stream",
     "text": [
      "1570953840559.129\n",
      "1344994726.5061035\n",
      "36674.169745286716\n"
     ]
    }
   ],
   "source": [
    "rss = np.sum(np.square(y_train - y_pred))\n",
    "print(rss)\n",
    "mse = mean_squared_error(y_train, y_pred)\n",
    "print(mse)\n",
    "rmse = mse ** 0.5\n",
    "print(rmse)"
   ]
  },
  {
   "cell_type": "code",
   "execution_count": 157,
   "id": "1bbf3677",
   "metadata": {},
   "outputs": [
    {
     "name": "stdout",
     "output_type": "stream",
     "text": [
      "For alpha = 0\n",
      "0.7792273468919212\n",
      "[[   4456.57267931  143522.76693193  173344.04236243   51608.14790064\n",
      "    43812.32693954  132091.03283794  226663.98934177   59612.21556631\n",
      "    39630.85815392    7326.51440493   20520.74971078   14049.10648196\n",
      "    39782.39816695 -116889.74506303   -7288.68639348   -1703.95652754\n",
      "   -66041.07372286]]\n",
      "For alpha = 0.001\n",
      "0.779227343983391\n",
      "[[   4460.2474764   143471.19715445  173346.84715191   51603.02999653\n",
      "    43818.2443011   132073.41093768  226639.06382973   59620.5557186\n",
      "    39633.04928088    7331.83236963   20516.9301948    14047.72822972\n",
      "    39780.56615045 -116838.87114842   -7281.32640502   -1703.54186308\n",
      "   -66036.94117268]]\n",
      "For alpha = 0.01\n",
      "0.7792270576632041\n",
      "[[   4493.2719163   143009.08209362  173371.91699717   51557.05284371\n",
      "    43871.3485989   131915.05188276  226415.08679944   59695.42719995\n",
      "    39652.71656858    7379.62856121   20482.6887412    14035.31771572\n",
      "    39764.12749786 -116382.77815577   -7215.57900104   -1699.81333187\n",
      "   -65999.89822088]]\n",
      "For alpha = 0.1\n",
      "0.7791999629133283\n",
      "[[   4818.76303381  138578.38054647  173605.77531914   51105.38822253\n",
      "    44387.70739175  130355.18429975  224209.86066792   60425.83603093\n",
      "    39844.27933367    7851.14264379   20152.99340451   13910.69247563\n",
      "    39604.40815895 -111990.92694093   -6603.64227442   -1662.85897113\n",
      "   -65643.82390091]]\n",
      "For alpha = 1\n",
      "0.7774727395160697\n",
      "[[  7654.34576832 107341.02052424 174560.45999888  47237.2196735\n",
      "   48371.12945582 117037.95965844 205206.85536788  66276.12986532\n",
      "   41342.82262583  11970.16457519  17733.77787495  12677.28992355\n",
      "   38316.67301712 -80336.12015321  -3146.15430189  -1319.0267469\n",
      "  -63153.77090571]]\n",
      "For alpha = 10\n",
      "0.7451974055071149\n",
      "[[ 1.77905279e+04  4.01622525e+04  1.52416877e+05  2.86021021e+04\n",
      "   5.41152290e+04  6.98580148e+04  1.28109330e+05  8.03327428e+04\n",
      "   4.28167338e+04  2.66913623e+04  9.24077968e+03  6.45527928e+03\n",
      "   3.07259103e+04 -1.62242586e+04 -3.95113952e+01  1.00257870e+03\n",
      "  -6.12604470e+04]]\n",
      "For alpha = 100\n",
      "0.4899364796977408\n",
      "[[ 11475.3669253    8452.26873182  63397.47308428    686.33791121\n",
      "   26690.90497778  24133.52210108  40279.94425099  45645.43790245\n",
      "   21906.72855493  18067.02633128  -2872.36855988   1434.02473998\n",
      "   10161.86281191     89.73699184   -265.77534551   3831.36182266\n",
      "  -46998.39336705]]\n"
     ]
    }
   ],
   "source": [
    "lambdas = [0,0.001,0.01,0.1,1,10,100]\n",
    "\n",
    "for i in lambdas:\n",
    "    ridreg = Ridge(alpha = i)\n",
    "    ridreg.fit(X_train,y_train)\n",
    "    y_pred = ridreg.predict(X_train)\n",
    "    print('For alpha = ' + str(i))\n",
    "    print(r2_score(y_train,y_pred))\n",
    "    print(ridreg.coef_)"
   ]
  },
  {
   "cell_type": "code",
   "execution_count": 158,
   "id": "7ca5f4d4",
   "metadata": {},
   "outputs": [
    {
     "name": "stdout",
     "output_type": "stream",
     "text": [
      "For alpha = 100\n",
      "0.7792273468916302\n"
     ]
    }
   ],
   "source": [
    "ridreg = Ridge(alpha = 0.00001)\n",
    "ridreg.fit(X_train,y_train)\n",
    "y_pred = ridreg.predict(X_train)\n",
    "print('For alpha = ' + str(i))\n",
    "print(r2_score(y_train,y_pred))"
   ]
  },
  {
   "cell_type": "code",
   "execution_count": 159,
   "id": "87dad9c0",
   "metadata": {
    "scrolled": true
   },
   "outputs": [
    {
     "name": "stdout",
     "output_type": "stream",
     "text": [
      "For alpha = 0\n",
      "0.7792273468919212\n",
      "[   4456.57267931  143522.76693193  173344.04236243   51608.14790064\n",
      "   43812.32693954  132091.03283794  226663.98934177   59612.21556631\n",
      "   39630.85815392    7326.51440493   20520.74971078   14049.10648196\n",
      "   39782.39816695 -116889.74506303   -7288.68639348   -1703.95652754\n",
      "  -66041.07372286]\n",
      "For alpha = 0.001\n",
      "0.7792273468914691\n",
      "[   4456.5154812   143522.30979719  173344.12504842   51608.03970315\n",
      "   43812.29116571  132090.92963089  226663.93974664   59612.26244749\n",
      "   39630.81469158    7326.45628567   20520.57609788   14048.8348973\n",
      "   39782.29677424 -116889.23984015   -7287.88487429   -1703.93366276\n",
      "  -66040.98597586]\n",
      "For alpha = 0.01\n",
      "0.7792273468471678\n",
      "[   4456.0254177   143518.33005604  173344.97192084   51607.05763148\n",
      "   43812.02863189  132089.98215439  226663.41891253   59612.61108527\n",
      "   39630.41636266    7325.92367867   20519.04958377   14046.38920636\n",
      "   39781.38727258 -116884.69323026   -7280.65533995   -1703.72873222\n",
      "  -66040.18624731]\n",
      "For alpha = 0.1\n",
      "0.7792273423982352\n",
      "[   4451.14716071  143477.87442893  173352.46851636   51597.44564479\n",
      "   43808.85921852  132080.04428418  226658.68530972   59616.64104036\n",
      "   39626.50656521    7320.73315378   20503.72877175   14021.95581083\n",
      "   39772.35005956 -116839.18906198   -7208.49030222   -1701.66711768\n",
      "  -66032.50987937]\n",
      "For alpha = 1\n",
      "0.7792268943542007\n",
      "[   4399.14021228  143065.22425063  173427.07685137   51499.66100969\n",
      "   43776.51006684  131988.21936928  226613.8503875    59659.47781956\n",
      "   39587.45905412    7268.44724527   20346.66038717   13777.54078244\n",
      "   39680.90087616 -116384.38936741   -6487.15290909   -1681.1001239\n",
      "  -65952.8990431 ]\n",
      "For alpha = 10\n",
      "0.7791845745115211\n",
      "[   3872.78879725  139001.92978507  174195.20972719   50536.94172677\n",
      "   43469.39552173  131068.36923634  226162.27757572   60055.70637062\n",
      "   39188.5906921     6735.74643395   18795.59217001   11332.06232852\n",
      "   38774.99823716 -111819.5546982       -0.           -1475.94215295\n",
      "  -65162.47338206]\n",
      "For alpha = 100\n",
      "0.7764369565478638\n",
      "[     0.          99599.86939579 181026.9344195   42070.61201849\n",
      "  39913.52970537 120742.624168   222312.42109316  63412.93047514\n",
      "  35313.85893194   1401.37263286   3899.24622315      0.\n",
      "  30698.6534482  -64858.68427423     -0.             -0.\n",
      " -57889.5375627 ]\n"
     ]
    },
    {
     "name": "stderr",
     "output_type": "stream",
     "text": [
      "C:\\Users\\Public\\Documents\\Wondershare\\CreatorTemp\\ipykernel_20020\\1359495182.py:5: UserWarning: With alpha=0, this algorithm does not converge well. You are advised to use the LinearRegression estimator\n",
      "  las.fit(X_train,y_train)\n",
      "D:\\Anacondas\\lib\\site-packages\\sklearn\\linear_model\\_coordinate_descent.py:631: UserWarning: Coordinate descent with no regularization may lead to unexpected results and is discouraged.\n",
      "  model = cd_fast.enet_coordinate_descent(\n",
      "D:\\Anacondas\\lib\\site-packages\\sklearn\\linear_model\\_coordinate_descent.py:631: ConvergenceWarning: Objective did not converge. You might want to increase the number of iterations, check the scale of the features or consider increasing regularisation. Duality gap: 7.855e+11, tolerance: 7.116e+08 Linear regression models with null weight for the l1 regularization term are more efficiently fitted using one of the solvers implemented in sklearn.linear_model.Ridge/RidgeCV instead.\n",
      "  model = cd_fast.enet_coordinate_descent(\n"
     ]
    }
   ],
   "source": [
    " lambdas = [0,0.001,0.01,0.1,1,10,100]\n",
    "\n",
    "for i in lambdas:\n",
    "    las = Lasso(alpha = i)\n",
    "    las.fit(X_train,y_train)\n",
    "    y_pred = las.predict(X_train)\n",
    "    print('For alpha = ' + str(i))\n",
    "    print(r2_score(y_train,y_pred))\n",
    "    print(las.coef_)"
   ]
  },
  {
   "cell_type": "code",
   "execution_count": 167,
   "id": "1cb8f8af",
   "metadata": {},
   "outputs": [
    {
     "name": "stdout",
     "output_type": "stream",
     "text": [
      "For alpha = 100\n",
      "0.7792273468901105\n",
      "[   4456.45518591  143521.84962851  173344.21385132   51607.92860462\n",
      "   43812.25841064  132090.83641905  226663.88932135   59612.30802327\n",
      "   39630.77078342    7326.39691263   20520.39933608   14048.56308078\n",
      "   39782.19401374 -116888.73509993   -7287.08277683   -1703.91092452\n",
      "  -66040.89350349]\n"
     ]
    }
   ],
   "source": [
    "las = Lasso(alpha = 0.002)\n",
    "las.fit(X_train,y_train)\n",
    "y_pred = las.predict(X_train)\n",
    "print('For alpha = ' + str(i))\n",
    "print(r2_score(y_train,y_pred))\n",
    "print(las.coef_)"
   ]
  },
  {
   "cell_type": "markdown",
   "id": "522d676b",
   "metadata": {},
   "source": [
    "0.779227343983391 < 0.7792273468914691\n",
    "\n",
    "Ridge             <  Lasso\n"
   ]
  },
  {
   "cell_type": "code",
   "execution_count": 163,
   "id": "fb9adaa4",
   "metadata": {},
   "outputs": [
    {
     "name": "stdout",
     "output_type": "stream",
     "text": [
      "For alpha = 100\n",
      "0.8108462055506377\n"
     ]
    }
   ],
   "source": [
    "las = Lasso(alpha = i)\n",
    "las.fit(X_train,y_train)\n",
    "y_pred = las.predict(X_test)\n",
    "print('For alpha = ' + str(i))\n",
    "print(r2_score(y_test,y_pred))\n",
    "#print(las.coef_)"
   ]
  },
  {
   "cell_type": "code",
   "execution_count": null,
   "id": "9ece4e1d",
   "metadata": {},
   "outputs": [],
   "source": []
  }
 ],
 "metadata": {
  "kernelspec": {
   "display_name": "Python 3 (ipykernel)",
   "language": "python",
   "name": "python3"
  },
  "language_info": {
   "codemirror_mode": {
    "name": "ipython",
    "version": 3
   },
   "file_extension": ".py",
   "mimetype": "text/x-python",
   "name": "python",
   "nbconvert_exporter": "python",
   "pygments_lexer": "ipython3",
   "version": "3.10.9"
  }
 },
 "nbformat": 4,
 "nbformat_minor": 5
}
